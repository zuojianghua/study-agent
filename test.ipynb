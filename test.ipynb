{
 "cells": [
  {
   "cell_type": "markdown",
   "metadata": {},
   "source": [
    "pip install ipykernel -i https://pypi.tuna.tsinghua.edu.cn/simple"
   ]
  },
  {
   "cell_type": "code",
   "execution_count": 2,
   "metadata": {},
   "outputs": [],
   "source": [
    "from langchain_ollama import ChatOllama\n",
    "\n",
    "llm = ChatOllama(\n",
    "    model = \"qwen3:8b\",\n",
    "    temperature = 0.3,\n",
    "    num_predict = 256,\n",
    "    # other params ...\n",
    ")\n"
   ]
  },
  {
   "cell_type": "code",
   "execution_count": 3,
   "metadata": {},
   "outputs": [
    {
     "data": {
      "text/plain": [
       "AIMessage(content='<think>\\nOkay, the user wants to translate \"I love programming.\" into French. Let me start by recalling the basic structure of the sentence. The subject is \"I,\" which in French is \"Je.\" The verb \"love\" here is \"aimer,\" but since the sentence is in the present tense and the subject is \"Je,\" the conjugation would be \"aime.\" Then \"programming\" translates to \"la programmation.\" So putting it all together, it should be \"Je aime la programmation.\" Wait, but in French, when using the verb \"aimer,\" the preposition \"de\" is often used after the verb. So maybe it\\'s \"Je aime la programmation\" or \"Je aime la programmation.\" Wait, no, actually, \"aimer\" can take a direct object without a preposition. For example, \"Je aime les maths\" (I love math). But sometimes, especially with abstract nouns, you might use \"de\" before the noun. However, in standard French, \"Je aime la programmation\" is correct. Let me check an example. If I search for \"I love programming in French,\" the common translation is \"J\\'aime la programmation.\" Oh, right, the \"Je\"', additional_kwargs={}, response_metadata={'model': 'qwen3:8b', 'created_at': '2025-05-24T13:25:20.6113883Z', 'done': True, 'done_reason': 'length', 'total_duration': 7973618400, 'load_duration': 2037024100, 'prompt_eval_count': 30, 'prompt_eval_duration': 138950900, 'eval_count': 256, 'eval_duration': 5797041700, 'model_name': 'qwen3:8b'}, id='run--f2f1f0d9-dce5-4d58-8abc-97060bcb1e7a-0', usage_metadata={'input_tokens': 30, 'output_tokens': 256, 'total_tokens': 286})"
      ]
     },
     "execution_count": 3,
     "metadata": {},
     "output_type": "execute_result"
    }
   ],
   "source": [
    "messages = [\n",
    "    (\"system\", \"You are a helpful translator. Translate the user sentence to French.\"),\n",
    "    (\"human\", \"I love programming.\"),\n",
    "]\n",
    "llm.invoke(messages)"
   ]
  },
  {
   "cell_type": "code",
   "execution_count": 4,
   "metadata": {},
   "outputs": [
    {
     "name": "stdout",
     "output_type": "stream",
     "text": [
      "<think>\n",
      "Okay, the user wants me to return the words \"Hello World!\". Let me check the instructions again. They said to put the answer in a box. So I need to make sure I just output exactly \"Hello World!\" without any extra text. Wait, maybe they want it in a code block? The example shows using triple backticks. Let me confirm. The user's query is straightforward, just asking for the words. I should respond with the exact string. Alright, I'll format it as specified.\n",
      "</think>\n",
      "\n",
      "```\n",
      "Hello World!\n",
      "```"
     ]
    }
   ],
   "source": [
    "messages = [\n",
    "    (\"human\", \"Return the words Hello World!\"),\n",
    "]\n",
    "for chunk in llm.stream(messages):\n",
    "    print(chunk.text(), end=\"\")"
   ]
  }
 ],
 "metadata": {
  "kernelspec": {
   "display_name": "Python 3",
   "language": "python",
   "name": "python3"
  },
  "language_info": {
   "codemirror_mode": {
    "name": "ipython",
    "version": 3
   },
   "file_extension": ".py",
   "mimetype": "text/x-python",
   "name": "python",
   "nbconvert_exporter": "python",
   "pygments_lexer": "ipython3",
   "version": "3.13.3"
  }
 },
 "nbformat": 4,
 "nbformat_minor": 2
}
